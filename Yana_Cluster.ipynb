{
 "cells": [
  {
   "cell_type": "markdown",
   "metadata": {},
   "source": [
    "# Задание"
   ]
  },
  {
   "cell_type": "code",
   "execution_count": null,
   "metadata": {},
   "outputs": [],
   "source": [
    "#ЗАДАНИЕ №4"
   ]
  },
  {
   "cell_type": "markdown",
   "metadata": {},
   "source": [
    "# Описания полей"
   ]
  },
  {
   "cell_type": "markdown",
   "metadata": {},
   "source": [
    "* age\tвозраст\n",
    "* gender\tпол repexc_date\n",
    "* city_type\tТип города проживания клиента\n",
    "* full_mob\tДлительность взаимоотношений с банком\n",
    "\n",
    "* ml_balance\tипотека\n",
    "* cl_balance_0m\tпотребительский кредит\n",
    "* loan_balance_0m\tвсе кредиты\n",
    "\n",
    "* td_balance_0m\tдепозит\n",
    "* casa_balance_0m\tсчета\n",
    "\n",
    "* dc_trx_cnt\tколичество трат по картам\n",
    "* dc_trx_sum\tсумма трат по картам\n",
    "* Avg_trx\tсредний размер транзакции\n",
    "* avgtrx_to_balance\t\n",
    "\n",
    "\n",
    "* min_casa_balance_1q\tпоказатели по счетам за квартал\n",
    "* max_casa_balance_1q\t\n",
    "* avg_casa_balance_1Y\tпоказатели по счетам за год\n",
    "\n",
    "* min_td_balance_1q\t\n",
    "* max_td_balance_1q\t\n",
    "* avg_td_balance_1Y\n",
    "\n",
    "* min_loan_balance_1q\t\n",
    "* max_loan_balance_1q\t\n",
    "* avg_loan_balance_1Y\n",
    "\n",
    "* min_cl_balance_1q\t\n",
    "* max_cl_balance_1q\t\n",
    "* avg_cl_balance_1Y\t\n",
    "* loan_to_deposit\t\n",
    "\n",
    "* income\tдоход клиента\n",
    "* nbi\tдоход от клиента без OPEX"
   ]
  },
  {
   "cell_type": "code",
   "execution_count": 6,
   "metadata": {},
   "outputs": [],
   "source": [
    "%matplotlib inline\n",
    "import pandas as pd\n",
    "import matplotlib.pyplot as plt\n",
    "import seaborn as sns\n",
    "import numpy as np\n",
    "from scipy import stats\n",
    "from tqdm.auto import tqdm"
   ]
  },
  {
   "cell_type": "code",
   "execution_count": 8,
   "metadata": {},
   "outputs": [
    {
     "data": {
      "text/html": [
       "<div>\n",
       "<style scoped>\n",
       "    .dataframe tbody tr th:only-of-type {\n",
       "        vertical-align: middle;\n",
       "    }\n",
       "\n",
       "    .dataframe tbody tr th {\n",
       "        vertical-align: top;\n",
       "    }\n",
       "\n",
       "    .dataframe thead th {\n",
       "        text-align: right;\n",
       "    }\n",
       "</style>\n",
       "<table border=\"1\" class=\"dataframe\">\n",
       "  <thead>\n",
       "    <tr style=\"text-align: right;\">\n",
       "      <th></th>\n",
       "      <th>age</th>\n",
       "      <th>gender</th>\n",
       "      <th>city_type</th>\n",
       "      <th>full_mob</th>\n",
       "      <th>ml_balance</th>\n",
       "      <th>cl_balance_0m</th>\n",
       "      <th>loan_balance_0m</th>\n",
       "      <th>td_balance_0m</th>\n",
       "      <th>casa_balance_0m</th>\n",
       "      <th>dc_trx_cnt</th>\n",
       "      <th>...</th>\n",
       "      <th>min_loan_balance_1q</th>\n",
       "      <th>max_loan_balance_1q</th>\n",
       "      <th>avg_loan_balance_1Y</th>\n",
       "      <th>min_cl_balance_1q</th>\n",
       "      <th>max_cl_balance_1q</th>\n",
       "      <th>avg_cl_balance_1Y</th>\n",
       "      <th>loan_to_deposit</th>\n",
       "      <th>Avg_trx</th>\n",
       "      <th>avgtrx_to_balance</th>\n",
       "      <th>nbi</th>\n",
       "    </tr>\n",
       "  </thead>\n",
       "  <tbody>\n",
       "    <tr>\n",
       "      <td>0</td>\n",
       "      <td>71</td>\n",
       "      <td>NaN</td>\n",
       "      <td>&lt;100</td>\n",
       "      <td>103</td>\n",
       "      <td>0.0</td>\n",
       "      <td>0.0</td>\n",
       "      <td>0.0</td>\n",
       "      <td>0.0</td>\n",
       "      <td>0.0000</td>\n",
       "      <td>0</td>\n",
       "      <td>...</td>\n",
       "      <td>0.0</td>\n",
       "      <td>0.0</td>\n",
       "      <td>0.0</td>\n",
       "      <td>0.0</td>\n",
       "      <td>0.0</td>\n",
       "      <td>0.0</td>\n",
       "      <td>NaN</td>\n",
       "      <td>NaN</td>\n",
       "      <td>NaN</td>\n",
       "      <td>NaN</td>\n",
       "    </tr>\n",
       "    <tr>\n",
       "      <td>1</td>\n",
       "      <td>49</td>\n",
       "      <td>NaN</td>\n",
       "      <td>Mega</td>\n",
       "      <td>81</td>\n",
       "      <td>0.0</td>\n",
       "      <td>0.0</td>\n",
       "      <td>0.0</td>\n",
       "      <td>0.0</td>\n",
       "      <td>3272.9367</td>\n",
       "      <td>0</td>\n",
       "      <td>...</td>\n",
       "      <td>0.0</td>\n",
       "      <td>0.0</td>\n",
       "      <td>0.0</td>\n",
       "      <td>0.0</td>\n",
       "      <td>0.0</td>\n",
       "      <td>0.0</td>\n",
       "      <td>NaN</td>\n",
       "      <td>NaN</td>\n",
       "      <td>NaN</td>\n",
       "      <td>28.762952</td>\n",
       "    </tr>\n",
       "    <tr>\n",
       "      <td>2</td>\n",
       "      <td>56</td>\n",
       "      <td>NaN</td>\n",
       "      <td>Mega</td>\n",
       "      <td>81</td>\n",
       "      <td>0.0</td>\n",
       "      <td>0.0</td>\n",
       "      <td>0.0</td>\n",
       "      <td>0.0</td>\n",
       "      <td>6249.7550</td>\n",
       "      <td>6</td>\n",
       "      <td>...</td>\n",
       "      <td>0.0</td>\n",
       "      <td>0.0</td>\n",
       "      <td>0.0</td>\n",
       "      <td>0.0</td>\n",
       "      <td>0.0</td>\n",
       "      <td>0.0</td>\n",
       "      <td>NaN</td>\n",
       "      <td>854.67</td>\n",
       "      <td>0.083467</td>\n",
       "      <td>1973.335539</td>\n",
       "    </tr>\n",
       "    <tr>\n",
       "      <td>3</td>\n",
       "      <td>47</td>\n",
       "      <td>NaN</td>\n",
       "      <td>Mega</td>\n",
       "      <td>81</td>\n",
       "      <td>0.0</td>\n",
       "      <td>0.0</td>\n",
       "      <td>0.0</td>\n",
       "      <td>0.0</td>\n",
       "      <td>14354.9370</td>\n",
       "      <td>0</td>\n",
       "      <td>...</td>\n",
       "      <td>0.0</td>\n",
       "      <td>0.0</td>\n",
       "      <td>0.0</td>\n",
       "      <td>0.0</td>\n",
       "      <td>0.0</td>\n",
       "      <td>0.0</td>\n",
       "      <td>NaN</td>\n",
       "      <td>NaN</td>\n",
       "      <td>NaN</td>\n",
       "      <td>364.008556</td>\n",
       "    </tr>\n",
       "    <tr>\n",
       "      <td>4</td>\n",
       "      <td>74</td>\n",
       "      <td>NaN</td>\n",
       "      <td>Mega</td>\n",
       "      <td>81</td>\n",
       "      <td>0.0</td>\n",
       "      <td>0.0</td>\n",
       "      <td>0.0</td>\n",
       "      <td>0.0</td>\n",
       "      <td>91511.7691</td>\n",
       "      <td>0</td>\n",
       "      <td>...</td>\n",
       "      <td>0.0</td>\n",
       "      <td>0.0</td>\n",
       "      <td>0.0</td>\n",
       "      <td>0.0</td>\n",
       "      <td>0.0</td>\n",
       "      <td>0.0</td>\n",
       "      <td>NaN</td>\n",
       "      <td>NaN</td>\n",
       "      <td>NaN</td>\n",
       "      <td>6651.416562</td>\n",
       "    </tr>\n",
       "  </tbody>\n",
       "</table>\n",
       "<p>5 rows × 28 columns</p>\n",
       "</div>"
      ],
      "text/plain": [
       "   age gender city_type  full_mob  ml_balance  cl_balance_0m  loan_balance_0m  \\\n",
       "0   71    NaN      <100       103         0.0            0.0              0.0   \n",
       "1   49    NaN      Mega        81         0.0            0.0              0.0   \n",
       "2   56    NaN      Mega        81         0.0            0.0              0.0   \n",
       "3   47    NaN      Mega        81         0.0            0.0              0.0   \n",
       "4   74    NaN      Mega        81         0.0            0.0              0.0   \n",
       "\n",
       "   td_balance_0m  casa_balance_0m  dc_trx_cnt  ...  min_loan_balance_1q  \\\n",
       "0            0.0           0.0000           0  ...                  0.0   \n",
       "1            0.0        3272.9367           0  ...                  0.0   \n",
       "2            0.0        6249.7550           6  ...                  0.0   \n",
       "3            0.0       14354.9370           0  ...                  0.0   \n",
       "4            0.0       91511.7691           0  ...                  0.0   \n",
       "\n",
       "   max_loan_balance_1q  avg_loan_balance_1Y  min_cl_balance_1q  \\\n",
       "0                  0.0                  0.0                0.0   \n",
       "1                  0.0                  0.0                0.0   \n",
       "2                  0.0                  0.0                0.0   \n",
       "3                  0.0                  0.0                0.0   \n",
       "4                  0.0                  0.0                0.0   \n",
       "\n",
       "   max_cl_balance_1q  avg_cl_balance_1Y  loan_to_deposit  Avg_trx  \\\n",
       "0                0.0                0.0              NaN      NaN   \n",
       "1                0.0                0.0              NaN      NaN   \n",
       "2                0.0                0.0              NaN   854.67   \n",
       "3                0.0                0.0              NaN      NaN   \n",
       "4                0.0                0.0              NaN      NaN   \n",
       "\n",
       "   avgtrx_to_balance          nbi  \n",
       "0                NaN          NaN  \n",
       "1                NaN    28.762952  \n",
       "2           0.083467  1973.335539  \n",
       "3                NaN   364.008556  \n",
       "4                NaN  6651.416562  \n",
       "\n",
       "[5 rows x 28 columns]"
      ]
     },
     "execution_count": 8,
     "metadata": {},
     "output_type": "execute_result"
    }
   ],
   "source": [
    "df = pd.read_csv('test_cluster.csv', encoding='cp1251', sep=';')\n",
    "df.head()"
   ]
  },
  {
   "cell_type": "code",
   "execution_count": 9,
   "metadata": {},
   "outputs": [
    {
     "data": {
      "text/plain": [
       "(50000, 28)"
      ]
     },
     "execution_count": 9,
     "metadata": {},
     "output_type": "execute_result"
    }
   ],
   "source": [
    "df.shape"
   ]
  },
  {
   "cell_type": "code",
   "execution_count": 5,
   "metadata": {},
   "outputs": [
    {
     "ename": "NameError",
     "evalue": "name 'df' is not defined",
     "output_type": "error",
     "traceback": [
      "\u001b[1;31m---------------------------------------------------------------------------\u001b[0m",
      "\u001b[1;31mNameError\u001b[0m                                 Traceback (most recent call last)",
      "\u001b[1;32m<ipython-input-5-a3a3c5cf7574>\u001b[0m in \u001b[0;36m<module>\u001b[1;34m\u001b[0m\n\u001b[1;32m----> 1\u001b[1;33m \u001b[0mpd\u001b[0m\u001b[1;33m.\u001b[0m\u001b[0mset_option\u001b[0m\u001b[1;33m(\u001b[0m\u001b[1;34m'display.max_columns'\u001b[0m\u001b[1;33m,\u001b[0m\u001b[0mdf\u001b[0m\u001b[1;33m.\u001b[0m\u001b[0mshape\u001b[0m\u001b[1;33m[\u001b[0m\u001b[1;36m1\u001b[0m\u001b[1;33m]\u001b[0m\u001b[1;33m)\u001b[0m\u001b[1;33m\u001b[0m\u001b[1;33m\u001b[0m\u001b[0m\n\u001b[0m\u001b[0;32m      2\u001b[0m \u001b[0mpd\u001b[0m\u001b[1;33m.\u001b[0m\u001b[0mget_option\u001b[0m\u001b[1;33m(\u001b[0m\u001b[1;34m'display.max_columns'\u001b[0m\u001b[1;33m)\u001b[0m\u001b[1;33m\u001b[0m\u001b[1;33m\u001b[0m\u001b[0m\n",
      "\u001b[1;31mNameError\u001b[0m: name 'df' is not defined"
     ]
    }
   ],
   "source": [
    "pd.set_option('display.max_columns',df.shape[1])\n",
    "pd.get_option('display.max_columns')\n"
   ]
  },
  {
   "cell_type": "code",
   "execution_count": 6,
   "metadata": {
    "scrolled": true
   },
   "outputs": [
    {
     "name": "stdout",
     "output_type": "stream",
     "text": [
      "<class 'pandas.core.frame.DataFrame'>\n",
      "RangeIndex: 50000 entries, 0 to 49999\n",
      "Data columns (total 28 columns):\n",
      "age                    50000 non-null int64\n",
      "gender                 49277 non-null object\n",
      "city_type              50000 non-null object\n",
      "full_mob               50000 non-null int64\n",
      "ml_balance             50000 non-null float64\n",
      "cl_balance_0m          50000 non-null float64\n",
      "loan_balance_0m        50000 non-null float64\n",
      "td_balance_0m          50000 non-null float64\n",
      "casa_balance_0m        50000 non-null float64\n",
      "dc_trx_cnt             50000 non-null int64\n",
      "dc_trx_sum             50000 non-null float64\n",
      "income                 50000 non-null float64\n",
      "min_casa_balance_1q    50000 non-null float64\n",
      "max_casa_balance_1q    50000 non-null float64\n",
      "avg_casa_balance_1Y    50000 non-null float64\n",
      "min_td_balance_1q      50000 non-null float64\n",
      "max_td_balance_1q      50000 non-null float64\n",
      "avg_td_balance_1Y      50000 non-null float64\n",
      "min_loan_balance_1q    50000 non-null float64\n",
      "max_loan_balance_1q    50000 non-null float64\n",
      "avg_loan_balance_1Y    50000 non-null float64\n",
      "min_cl_balance_1q      50000 non-null float64\n",
      "max_cl_balance_1q      50000 non-null float64\n",
      "avg_cl_balance_1Y      50000 non-null float64\n",
      "loan_to_deposit        3820 non-null float64\n",
      "Avg_trx                32128 non-null float64\n",
      "avgtrx_to_balance      31515 non-null float64\n",
      "nbi                    47569 non-null float64\n",
      "dtypes: float64(23), int64(3), object(2)\n",
      "memory usage: 10.7+ MB\n"
     ]
    }
   ],
   "source": [
    "df.info()"
   ]
  },
  {
   "cell_type": "code",
   "execution_count": 30,
   "metadata": {},
   "outputs": [
    {
     "data": {
      "text/plain": [
       "age                        0\n",
       "gender                     0\n",
       "city_type                  0\n",
       "full_mob                   0\n",
       "ml_balance                 0\n",
       "cl_balance_0m              0\n",
       "loan_balance_0m            0\n",
       "td_balance_0m              0\n",
       "casa_balance_0m            0\n",
       "dc_trx_cnt                 0\n",
       "dc_trx_sum                 0\n",
       "income                     0\n",
       "min_casa_balance_1q        0\n",
       "max_casa_balance_1q        0\n",
       "avg_casa_balance_1Y        0\n",
       "min_td_balance_1q          0\n",
       "max_td_balance_1q          0\n",
       "avg_td_balance_1Y          0\n",
       "min_loan_balance_1q        0\n",
       "max_loan_balance_1q        0\n",
       "avg_loan_balance_1Y        0\n",
       "min_cl_balance_1q          0\n",
       "max_cl_balance_1q          0\n",
       "avg_cl_balance_1Y          0\n",
       "loan_to_deposit        45486\n",
       "Avg_trx                17720\n",
       "avgtrx_to_balance      18329\n",
       "nbi                     2367\n",
       "dtype: int64"
      ]
     },
     "execution_count": 30,
     "metadata": {},
     "output_type": "execute_result"
    }
   ],
   "source": [
    "df.isnull().sum(axis=0)"
   ]
  },
  {
   "cell_type": "code",
   "execution_count": null,
   "metadata": {},
   "outputs": [],
   "source": []
  },
  {
   "cell_type": "code",
   "execution_count": 7,
   "metadata": {},
   "outputs": [
    {
     "name": "stdout",
     "output_type": "stream",
     "text": [
      "98.554\n"
     ]
    }
   ],
   "source": [
    "#Принято решение одно из исследований df сделать по   полю gender.\n",
    "print((49277/50000)*100) # Поле заполнено на 98,6%, поэтому   для дальнейшего анализа  df принято решение убрать из df  все строки с NaN\n",
    "                #  по полю  gender. NaN  по полям Avg_trx, avgtrx_to_balance,nbi нулями не заполняем, так как планируется\n",
    "#расчет средних значений,а значения NaN не учитываются при вычислении средних значений,что и необходимо.\n"
   ]
  },
  {
   "cell_type": "code",
   "execution_count": 8,
   "metadata": {},
   "outputs": [
    {
     "name": "stdout",
     "output_type": "stream",
     "text": [
      "<class 'pandas.core.frame.DataFrame'>\n",
      "Int64Index: 49277 entries, 5 to 49999\n",
      "Data columns (total 28 columns):\n",
      "age                    49277 non-null int64\n",
      "gender                 49277 non-null object\n",
      "city_type              49277 non-null object\n",
      "full_mob               49277 non-null int64\n",
      "ml_balance             49277 non-null float64\n",
      "cl_balance_0m          49277 non-null float64\n",
      "loan_balance_0m        49277 non-null float64\n",
      "td_balance_0m          49277 non-null float64\n",
      "casa_balance_0m        49277 non-null float64\n",
      "dc_trx_cnt             49277 non-null int64\n",
      "dc_trx_sum             49277 non-null float64\n",
      "income                 49277 non-null float64\n",
      "min_casa_balance_1q    49277 non-null float64\n",
      "max_casa_balance_1q    49277 non-null float64\n",
      "avg_casa_balance_1Y    49277 non-null float64\n",
      "min_td_balance_1q      49277 non-null float64\n",
      "max_td_balance_1q      49277 non-null float64\n",
      "avg_td_balance_1Y      49277 non-null float64\n",
      "min_loan_balance_1q    49277 non-null float64\n",
      "max_loan_balance_1q    49277 non-null float64\n",
      "avg_loan_balance_1Y    49277 non-null float64\n",
      "min_cl_balance_1q      49277 non-null float64\n",
      "max_cl_balance_1q      49277 non-null float64\n",
      "avg_cl_balance_1Y      49277 non-null float64\n",
      "loan_to_deposit        3791 non-null float64\n",
      "Avg_trx                31557 non-null float64\n",
      "avgtrx_to_balance      30948 non-null float64\n",
      "nbi                    46910 non-null float64\n",
      "dtypes: float64(23), int64(3), object(2)\n",
      "memory usage: 10.9+ MB\n"
     ]
    }
   ],
   "source": [
    "df.dropna(subset=['gender'],inplace=True)\n",
    "\n",
    "df.info()"
   ]
  },
  {
   "cell_type": "code",
   "execution_count": null,
   "metadata": {},
   "outputs": [],
   "source": [
    "I."
   ]
  },
  {
   "cell_type": "code",
   "execution_count": 6,
   "metadata": {},
   "outputs": [],
   "source": [
    "#Проанализируем траты по картам мужчин и женнщин. Для этого создадим новый df_fm на базе исходного. Найдем средние значения \n",
    "#(на одного мужчину, на одну женщину)  требуемых показателей в разрезе мужчин и женщин."
   ]
  },
  {
   "cell_type": "code",
   "execution_count": 9,
   "metadata": {},
   "outputs": [
    {
     "data": {
      "text/plain": [
       "gender\n",
       "F     995\n",
       "М    1072\n",
       "Name: dc_trx_cnt, dtype: int64"
      ]
     },
     "execution_count": 9,
     "metadata": {},
     "output_type": "execute_result"
    }
   ],
   "source": [
    "#Посчитаем количество мужчин и количество женщин в  исходном df\n",
    "df.groupby(['gender'])['dc_trx_cnt'].nunique()"
   ]
  },
  {
   "cell_type": "code",
   "execution_count": 184,
   "metadata": {},
   "outputs": [
    {
     "data": {
      "text/html": [
       "<div>\n",
       "<style scoped>\n",
       "    .dataframe tbody tr th:only-of-type {\n",
       "        vertical-align: middle;\n",
       "    }\n",
       "\n",
       "    .dataframe tbody tr th {\n",
       "        vertical-align: top;\n",
       "    }\n",
       "\n",
       "    .dataframe thead th {\n",
       "        text-align: right;\n",
       "    }\n",
       "</style>\n",
       "<table border=\"1\" class=\"dataframe\">\n",
       "  <thead>\n",
       "    <tr style=\"text-align: right;\">\n",
       "      <th></th>\n",
       "      <th>dc_trx_cnt</th>\n",
       "      <th>avgtrx_to_balance</th>\n",
       "      <th>dc_trx_sum</th>\n",
       "      <th>Avg_trx</th>\n",
       "    </tr>\n",
       "    <tr>\n",
       "      <th>gender</th>\n",
       "      <th></th>\n",
       "      <th></th>\n",
       "      <th></th>\n",
       "      <th></th>\n",
       "    </tr>\n",
       "  </thead>\n",
       "  <tbody>\n",
       "    <tr>\n",
       "      <td>F</td>\n",
       "      <td>111.215255</td>\n",
       "      <td>118.622032</td>\n",
       "      <td>207.842854</td>\n",
       "      <td>459.010252</td>\n",
       "    </tr>\n",
       "    <tr>\n",
       "      <td>М</td>\n",
       "      <td>99.438531</td>\n",
       "      <td>557.186301</td>\n",
       "      <td>229.502170</td>\n",
       "      <td>579.371713</td>\n",
       "    </tr>\n",
       "  </tbody>\n",
       "</table>\n",
       "</div>"
      ],
      "text/plain": [
       "        dc_trx_cnt  avgtrx_to_balance  dc_trx_sum     Avg_trx\n",
       "gender                                                       \n",
       "F       111.215255         118.622032  207.842854  459.010252\n",
       "М        99.438531         557.186301  229.502170  579.371713"
      ]
     },
     "execution_count": 184,
     "metadata": {},
     "output_type": "execute_result"
    }
   ],
   "source": [
    "\n",
    "df_fm=df.groupby(['gender'])['dc_trx_cnt', 'avgtrx_to_balance','dc_trx_sum','Avg_trx'].mean().reset_index()\n",
    "df_fm.set_index('gender', inplace=True)\n",
    "#Приведем данные к одному масштабу для визуализации hits\n",
    "df_fm['dc_trx_sum']=df_fm['dc_trx_sum']/1000\n",
    "df_fm['Avg_trx']=df_fm['Avg_trx']/10\n",
    "df_fm\n"
   ]
  },
  {
   "cell_type": "code",
   "execution_count": 185,
   "metadata": {},
   "outputs": [
    {
     "data": {
      "text/plain": [
       "<matplotlib.axes._subplots.AxesSubplot at 0x1da61fc91c8>"
      ]
     },
     "execution_count": 185,
     "metadata": {},
     "output_type": "execute_result"
    },
    {
     "data": {
      "image/png": "[encoded data removed]",
      "text/plain": [
       "<Figure size 720x144 with 1 Axes>"
      ]
     },
     "metadata": {},
     "output_type": "display_data"
    }
   ],
   "source": [
    "df_fm_T=df_fm.T\n",
    "df_fm_T\n",
    "df_fm_T.plot(kind='bar', figsize=(10, 2))"
   ]
  },
  {
   "cell_type": "code",
   "execution_count": 186,
   "metadata": {},
   "outputs": [
    {
     "data": {
      "text/html": [
       "<div>\n",
       "<style scoped>\n",
       "    .dataframe tbody tr th:only-of-type {\n",
       "        vertical-align: middle;\n",
       "    }\n",
       "\n",
       "    .dataframe tbody tr th {\n",
       "        vertical-align: top;\n",
       "    }\n",
       "\n",
       "    .dataframe thead th {\n",
       "        text-align: right;\n",
       "    }\n",
       "</style>\n",
       "<table border=\"1\" class=\"dataframe\">\n",
       "  <thead>\n",
       "    <tr style=\"text-align: right;\">\n",
       "      <th></th>\n",
       "      <th>dc_trx_cnt</th>\n",
       "      <th>avgtrx_to_balance</th>\n",
       "      <th>dc_trx_sum</th>\n",
       "      <th>Avg_trx</th>\n",
       "    </tr>\n",
       "    <tr>\n",
       "      <th>gender</th>\n",
       "      <th></th>\n",
       "      <th></th>\n",
       "      <th></th>\n",
       "      <th></th>\n",
       "    </tr>\n",
       "  </thead>\n",
       "  <tbody>\n",
       "    <tr>\n",
       "      <td>F</td>\n",
       "      <td>NaN</td>\n",
       "      <td>NaN</td>\n",
       "      <td>NaN</td>\n",
       "      <td>NaN</td>\n",
       "    </tr>\n",
       "    <tr>\n",
       "      <td>М</td>\n",
       "      <td>-11.776724</td>\n",
       "      <td>438.564269</td>\n",
       "      <td>21.659316</td>\n",
       "      <td>120.361461</td>\n",
       "    </tr>\n",
       "  </tbody>\n",
       "</table>\n",
       "</div>"
      ],
      "text/plain": [
       "        dc_trx_cnt  avgtrx_to_balance  dc_trx_sum     Avg_trx\n",
       "gender                                                       \n",
       "F              NaN                NaN         NaN         NaN\n",
       "М       -11.776724         438.564269   21.659316  120.361461"
      ]
     },
     "execution_count": 186,
     "metadata": {},
     "output_type": "execute_result"
    }
   ],
   "source": [
    "#Найдем разницу по показателям трат/остатков (средних значений)по картам между мужчинами и женщиками\n",
    "df_fm.apply(lambda col: col.diff())"
   ]
  },
  {
   "cell_type": "code",
   "execution_count": null,
   "metadata": {},
   "outputs": [],
   "source": [
    "#ВЫВОДЫ ПО ПЕРВОМУ ПРИБЛИЖЕНИЮ:   Женщины совершают покупки чаще мужчин, но  сумма покупки мужчин больше.Остатки по\n",
    "#счетам карт у мужчин больще, чем у женщин. Точные данные приведены в таблице выше"
   ]
  },
  {
   "cell_type": "code",
   "execution_count": null,
   "metadata": {},
   "outputs": [],
   "source": []
  },
  {
   "cell_type": "code",
   "execution_count": null,
   "metadata": {},
   "outputs": [],
   "source": [
    "#ПРИМЕНИМ МЕТОД СТАНДАРТИЗАЦИИ"
   ]
  },
  {
   "cell_type": "code",
   "execution_count": 176,
   "metadata": {},
   "outputs": [],
   "source": [
    "df_fm1=df.groupby(['gender'])['dc_trx_cnt', 'avgtrx_to_balance','dc_trx_sum','Avg_trx'].mean().reset_index()\n",
    "df_fm1.set_index('gender', inplace=True)"
   ]
  },
  {
   "cell_type": "code",
   "execution_count": 177,
   "metadata": {},
   "outputs": [
    {
     "data": {
      "text/html": [
       "<div>\n",
       "<style scoped>\n",
       "    .dataframe tbody tr th:only-of-type {\n",
       "        vertical-align: middle;\n",
       "    }\n",
       "\n",
       "    .dataframe tbody tr th {\n",
       "        vertical-align: top;\n",
       "    }\n",
       "\n",
       "    .dataframe thead th {\n",
       "        text-align: right;\n",
       "    }\n",
       "</style>\n",
       "<table border=\"1\" class=\"dataframe\">\n",
       "  <thead>\n",
       "    <tr style=\"text-align: right;\">\n",
       "      <th></th>\n",
       "      <th>dc_trx_cnt</th>\n",
       "      <th>avgtrx_to_balance</th>\n",
       "      <th>dc_trx_sum</th>\n",
       "      <th>Avg_trx</th>\n",
       "    </tr>\n",
       "    <tr>\n",
       "      <th>gender</th>\n",
       "      <th></th>\n",
       "      <th></th>\n",
       "      <th></th>\n",
       "      <th></th>\n",
       "    </tr>\n",
       "  </thead>\n",
       "  <tbody>\n",
       "    <tr>\n",
       "      <td>F</td>\n",
       "      <td>111.215255</td>\n",
       "      <td>118.622032</td>\n",
       "      <td>207842.853932</td>\n",
       "      <td>4590.102516</td>\n",
       "    </tr>\n",
       "    <tr>\n",
       "      <td>М</td>\n",
       "      <td>99.438531</td>\n",
       "      <td>557.186301</td>\n",
       "      <td>229502.169917</td>\n",
       "      <td>5793.717131</td>\n",
       "    </tr>\n",
       "  </tbody>\n",
       "</table>\n",
       "</div>"
      ],
      "text/plain": [
       "        dc_trx_cnt  avgtrx_to_balance     dc_trx_sum      Avg_trx\n",
       "gender                                                           \n",
       "F       111.215255         118.622032  207842.853932  4590.102516\n",
       "М        99.438531         557.186301  229502.169917  5793.717131"
      ]
     },
     "execution_count": 177,
     "metadata": {},
     "output_type": "execute_result"
    }
   ],
   "source": [
    "df_fm1"
   ]
  },
  {
   "cell_type": "code",
   "execution_count": 178,
   "metadata": {},
   "outputs": [
    {
     "data": {
      "text/plain": [
       "dc_trx_cnt              105.326893\n",
       "avgtrx_to_balance       337.904166\n",
       "dc_trx_sum           218672.511924\n",
       "Avg_trx                5191.909824\n",
       "dtype: float64"
      ]
     },
     "execution_count": 178,
     "metadata": {},
     "output_type": "execute_result"
    }
   ],
   "source": [
    "df_fm1.mean()"
   ]
  },
  {
   "cell_type": "code",
   "execution_count": 179,
   "metadata": {},
   "outputs": [
    {
     "data": {
      "text/plain": [
       "dc_trx_cnt               8.327402\n",
       "avgtrx_to_balance      310.111768\n",
       "dc_trx_sum           15315.449209\n",
       "Avg_trx                851.084056\n",
       "dtype: float64"
      ]
     },
     "execution_count": 179,
     "metadata": {},
     "output_type": "execute_result"
    }
   ],
   "source": [
    "df_fm1.std()"
   ]
  },
  {
   "cell_type": "code",
   "execution_count": 181,
   "metadata": {},
   "outputs": [
    {
     "data": {
      "text/html": [
       "<div>\n",
       "<style scoped>\n",
       "    .dataframe tbody tr th:only-of-type {\n",
       "        vertical-align: middle;\n",
       "    }\n",
       "\n",
       "    .dataframe tbody tr th {\n",
       "        vertical-align: top;\n",
       "    }\n",
       "\n",
       "    .dataframe thead th {\n",
       "        text-align: right;\n",
       "    }\n",
       "</style>\n",
       "<table border=\"1\" class=\"dataframe\">\n",
       "  <thead>\n",
       "    <tr style=\"text-align: right;\">\n",
       "      <th></th>\n",
       "      <th>dc_trx_cnt</th>\n",
       "      <th>avgtrx_to_balance</th>\n",
       "      <th>dc_trx_sum</th>\n",
       "      <th>Avg_trx</th>\n",
       "    </tr>\n",
       "    <tr>\n",
       "      <th>gender</th>\n",
       "      <th></th>\n",
       "      <th></th>\n",
       "      <th></th>\n",
       "      <th></th>\n",
       "    </tr>\n",
       "  </thead>\n",
       "  <tbody>\n",
       "    <tr>\n",
       "      <td>F</td>\n",
       "      <td>0.707107</td>\n",
       "      <td>-0.707107</td>\n",
       "      <td>-0.707107</td>\n",
       "      <td>-0.707107</td>\n",
       "    </tr>\n",
       "    <tr>\n",
       "      <td>М</td>\n",
       "      <td>-0.707107</td>\n",
       "      <td>0.707107</td>\n",
       "      <td>0.707107</td>\n",
       "      <td>0.707107</td>\n",
       "    </tr>\n",
       "  </tbody>\n",
       "</table>\n",
       "</div>"
      ],
      "text/plain": [
       "        dc_trx_cnt  avgtrx_to_balance  dc_trx_sum   Avg_trx\n",
       "gender                                                     \n",
       "F         0.707107          -0.707107   -0.707107 -0.707107\n",
       "М        -0.707107           0.707107    0.707107  0.707107"
      ]
     },
     "execution_count": 181,
     "metadata": {},
     "output_type": "execute_result"
    }
   ],
   "source": [
    "df_st=(df_fm1-df_fm1.mean())/df_fm1.std()\n",
    "df_st"
   ]
  },
  {
   "cell_type": "code",
   "execution_count": 174,
   "metadata": {},
   "outputs": [
    {
     "data": {
      "text/plain": [
       "dc_trx_cnt           0.000000e+00\n",
       "avgtrx_to_balance    5.551115e-17\n",
       "dc_trx_sum           0.000000e+00\n",
       "Avg_trx              0.000000e+00\n",
       "dtype: float64"
      ]
     },
     "execution_count": 174,
     "metadata": {},
     "output_type": "execute_result"
    }
   ],
   "source": [
    "df_st.mean()"
   ]
  },
  {
   "cell_type": "code",
   "execution_count": 175,
   "metadata": {},
   "outputs": [
    {
     "data": {
      "text/plain": [
       "dc_trx_cnt           1.0\n",
       "avgtrx_to_balance    1.0\n",
       "dc_trx_sum           1.0\n",
       "Avg_trx              1.0\n",
       "dtype: float64"
      ]
     },
     "execution_count": 175,
     "metadata": {},
     "output_type": "execute_result"
    }
   ],
   "source": [
    "df_st.std()"
   ]
  },
  {
   "cell_type": "code",
   "execution_count": 182,
   "metadata": {},
   "outputs": [
    {
     "data": {
      "text/plain": [
       "<matplotlib.axes._subplots.AxesSubplot at 0x1da620dd588>"
      ]
     },
     "execution_count": 182,
     "metadata": {},
     "output_type": "execute_result"
    },
    {
     "data": {
      "image/png": "[encoded data removed]",
      "text/plain": [
       "<Figure size 720x144 with 1 Axes>"
      ]
     },
     "metadata": {},
     "output_type": "display_data"
    }
   ],
   "source": [
    "df_st_T=df_st.T\n",
    "df_st_T\n",
    "df_st_T.plot(kind='bar', figsize=(10, 2))"
   ]
  },
  {
   "cell_type": "code",
   "execution_count": null,
   "metadata": {},
   "outputs": [],
   "source": [
    "#ВЫВОДЫ ПО МЕТОДУ СТАНДАРТИЗАЦИИ:    Так же, как и способом выше- Женщины совершают покупки чаще мужчин, но  сумма покупки мужчин больше.Остатки по\n",
    "#счетам карт у мужчин больще, чем у женщин. "
   ]
  },
  {
   "cell_type": "code",
   "execution_count": null,
   "metadata": {},
   "outputs": [],
   "source": []
  },
  {
   "cell_type": "code",
   "execution_count": null,
   "metadata": {},
   "outputs": [],
   "source": [
    "II."
   ]
  },
  {
   "cell_type": "code",
   "execution_count": null,
   "metadata": {},
   "outputs": [],
   "source": [
    "#Проанализируем объемы кредитования по различным кредитным продуктам в зависимости от размера населенного пункта.\n",
    "#Для этого создадим новый df_city на базе исходного. Найдем средние значения\n",
    "#требуемых показателей в разрезе градаций по размерам населенных пунктов."
   ]
  },
  {
   "cell_type": "code",
   "execution_count": null,
   "metadata": {},
   "outputs": [],
   "source": []
  },
  {
   "cell_type": "code",
   "execution_count": 20,
   "metadata": {},
   "outputs": [
    {
     "data": {
      "text/html": [
       "<div>\n",
       "<style scoped>\n",
       "    .dataframe tbody tr th:only-of-type {\n",
       "        vertical-align: middle;\n",
       "    }\n",
       "\n",
       "    .dataframe tbody tr th {\n",
       "        vertical-align: top;\n",
       "    }\n",
       "\n",
       "    .dataframe thead th {\n",
       "        text-align: right;\n",
       "    }\n",
       "</style>\n",
       "<table border=\"1\" class=\"dataframe\">\n",
       "  <thead>\n",
       "    <tr style=\"text-align: right;\">\n",
       "      <th></th>\n",
       "      <th>city_type</th>\n",
       "      <th>ml_balance</th>\n",
       "      <th>cl_balance_0m</th>\n",
       "      <th>loan_balance_0m</th>\n",
       "      <th>min_loan_balance_1q</th>\n",
       "      <th>max_loan_balance_1q</th>\n",
       "      <th>avg_loan_balance_1Y</th>\n",
       "    </tr>\n",
       "  </thead>\n",
       "  <tbody>\n",
       "    <tr>\n",
       "      <td>0</td>\n",
       "      <td>100-500</td>\n",
       "      <td>10124.896902</td>\n",
       "      <td>67425.976933</td>\n",
       "      <td>87603.419787</td>\n",
       "      <td>81037.631805</td>\n",
       "      <td>95842.786788</td>\n",
       "      <td>85144.700506</td>\n",
       "    </tr>\n",
       "    <tr>\n",
       "      <td>1</td>\n",
       "      <td>1M+</td>\n",
       "      <td>17193.745653</td>\n",
       "      <td>56129.776859</td>\n",
       "      <td>79938.255755</td>\n",
       "      <td>74613.406735</td>\n",
       "      <td>86509.228942</td>\n",
       "      <td>77612.187775</td>\n",
       "    </tr>\n",
       "    <tr>\n",
       "      <td>2</td>\n",
       "      <td>500-1000</td>\n",
       "      <td>10097.149888</td>\n",
       "      <td>56742.027056</td>\n",
       "      <td>74968.727910</td>\n",
       "      <td>68286.751794</td>\n",
       "      <td>81290.940227</td>\n",
       "      <td>70358.961689</td>\n",
       "    </tr>\n",
       "    <tr>\n",
       "      <td>3</td>\n",
       "      <td>&lt;100</td>\n",
       "      <td>7644.066770</td>\n",
       "      <td>63142.912135</td>\n",
       "      <td>77696.633243</td>\n",
       "      <td>72012.300410</td>\n",
       "      <td>84299.835769</td>\n",
       "      <td>74756.864017</td>\n",
       "    </tr>\n",
       "    <tr>\n",
       "      <td>4</td>\n",
       "      <td>Mega</td>\n",
       "      <td>23568.911413</td>\n",
       "      <td>53533.495433</td>\n",
       "      <td>85903.987920</td>\n",
       "      <td>80432.324841</td>\n",
       "      <td>95726.391942</td>\n",
       "      <td>86426.739978</td>\n",
       "    </tr>\n",
       "  </tbody>\n",
       "</table>\n",
       "</div>"
      ],
      "text/plain": [
       "  city_type    ml_balance  cl_balance_0m  loan_balance_0m  \\\n",
       "0   100-500  10124.896902   67425.976933     87603.419787   \n",
       "1       1M+  17193.745653   56129.776859     79938.255755   \n",
       "2  500-1000  10097.149888   56742.027056     74968.727910   \n",
       "3      <100   7644.066770   63142.912135     77696.633243   \n",
       "4      Mega  23568.911413   53533.495433     85903.987920   \n",
       "\n",
       "   min_loan_balance_1q  max_loan_balance_1q  avg_loan_balance_1Y  \n",
       "0         81037.631805         95842.786788         85144.700506  \n",
       "1         74613.406735         86509.228942         77612.187775  \n",
       "2         68286.751794         81290.940227         70358.961689  \n",
       "3         72012.300410         84299.835769         74756.864017  \n",
       "4         80432.324841         95726.391942         86426.739978  "
      ]
     },
     "execution_count": 20,
     "metadata": {},
     "output_type": "execute_result"
    }
   ],
   "source": [
    "df_city=df.groupby(['city_type'])['ml_balance','cl_balance_0m', 'loan_balance_0m','min_loan_balance_1q','max_loan_balance_1q','avg_loan_balance_1Y'].mean().reset_index()\n",
    "\n",
    "df_city"
   ]
  },
  {
   "cell_type": "code",
   "execution_count": 21,
   "metadata": {},
   "outputs": [
    {
     "data": {
      "text/html": [
       "<div>\n",
       "<style scoped>\n",
       "    .dataframe tbody tr th:only-of-type {\n",
       "        vertical-align: middle;\n",
       "    }\n",
       "\n",
       "    .dataframe tbody tr th {\n",
       "        vertical-align: top;\n",
       "    }\n",
       "\n",
       "    .dataframe thead th {\n",
       "        text-align: right;\n",
       "    }\n",
       "</style>\n",
       "<table border=\"1\" class=\"dataframe\">\n",
       "  <thead>\n",
       "    <tr style=\"text-align: right;\">\n",
       "      <th></th>\n",
       "      <th>ml_balance</th>\n",
       "      <th>cl_balance_0m</th>\n",
       "      <th>loan_balance_0m</th>\n",
       "      <th>min_loan_balance_1q</th>\n",
       "      <th>max_loan_balance_1q</th>\n",
       "      <th>avg_loan_balance_1Y</th>\n",
       "    </tr>\n",
       "    <tr>\n",
       "      <th>city_type</th>\n",
       "      <th></th>\n",
       "      <th></th>\n",
       "      <th></th>\n",
       "      <th></th>\n",
       "      <th></th>\n",
       "      <th></th>\n",
       "    </tr>\n",
       "  </thead>\n",
       "  <tbody>\n",
       "    <tr>\n",
       "      <td>100-500</td>\n",
       "      <td>10124.896902</td>\n",
       "      <td>67425.976933</td>\n",
       "      <td>87603.419787</td>\n",
       "      <td>81037.631805</td>\n",
       "      <td>95842.786788</td>\n",
       "      <td>85144.700506</td>\n",
       "    </tr>\n",
       "    <tr>\n",
       "      <td>1M+</td>\n",
       "      <td>17193.745653</td>\n",
       "      <td>56129.776859</td>\n",
       "      <td>79938.255755</td>\n",
       "      <td>74613.406735</td>\n",
       "      <td>86509.228942</td>\n",
       "      <td>77612.187775</td>\n",
       "    </tr>\n",
       "    <tr>\n",
       "      <td>500-1000</td>\n",
       "      <td>10097.149888</td>\n",
       "      <td>56742.027056</td>\n",
       "      <td>74968.727910</td>\n",
       "      <td>68286.751794</td>\n",
       "      <td>81290.940227</td>\n",
       "      <td>70358.961689</td>\n",
       "    </tr>\n",
       "    <tr>\n",
       "      <td>&lt;100</td>\n",
       "      <td>7644.066770</td>\n",
       "      <td>63142.912135</td>\n",
       "      <td>77696.633243</td>\n",
       "      <td>72012.300410</td>\n",
       "      <td>84299.835769</td>\n",
       "      <td>74756.864017</td>\n",
       "    </tr>\n",
       "    <tr>\n",
       "      <td>Mega</td>\n",
       "      <td>23568.911413</td>\n",
       "      <td>53533.495433</td>\n",
       "      <td>85903.987920</td>\n",
       "      <td>80432.324841</td>\n",
       "      <td>95726.391942</td>\n",
       "      <td>86426.739978</td>\n",
       "    </tr>\n",
       "  </tbody>\n",
       "</table>\n",
       "</div>"
      ],
      "text/plain": [
       "             ml_balance  cl_balance_0m  loan_balance_0m  min_loan_balance_1q  \\\n",
       "city_type                                                                      \n",
       "100-500    10124.896902   67425.976933     87603.419787         81037.631805   \n",
       "1M+        17193.745653   56129.776859     79938.255755         74613.406735   \n",
       "500-1000   10097.149888   56742.027056     74968.727910         68286.751794   \n",
       "<100        7644.066770   63142.912135     77696.633243         72012.300410   \n",
       "Mega       23568.911413   53533.495433     85903.987920         80432.324841   \n",
       "\n",
       "           max_loan_balance_1q  avg_loan_balance_1Y  \n",
       "city_type                                            \n",
       "100-500           95842.786788         85144.700506  \n",
       "1M+               86509.228942         77612.187775  \n",
       "500-1000          81290.940227         70358.961689  \n",
       "<100              84299.835769         74756.864017  \n",
       "Mega              95726.391942         86426.739978  "
      ]
     },
     "execution_count": 21,
     "metadata": {},
     "output_type": "execute_result"
    }
   ],
   "source": [
    "df_city.set_index('city_type', inplace=True)\n",
    "df_city"
   ]
  },
  {
   "cell_type": "code",
   "execution_count": 22,
   "metadata": {},
   "outputs": [],
   "source": [
    "df_cityT=df_city.T"
   ]
  },
  {
   "cell_type": "code",
   "execution_count": 23,
   "metadata": {},
   "outputs": [
    {
     "data": {
      "text/plain": [
       "<matplotlib.axes._subplots.AxesSubplot at 0x1fff7a23788>"
      ]
     },
     "execution_count": 23,
     "metadata": {},
     "output_type": "execute_result"
    },
    {
     "data": {
      "image/png": "[encoded data removed]",
      "text/plain": [
       "<Figure size 720x288 with 1 Axes>"
      ]
     },
     "metadata": {
      "needs_background": "light"
     },
     "output_type": "display_data"
    }
   ],
   "source": [
    "df_cityT.plot(kind='bar', figsize=(10, 4))"
   ]
  },
  {
   "cell_type": "code",
   "execution_count": null,
   "metadata": {},
   "outputs": [],
   "source": [
    "#Выводы по первому приближению по среднему значению данных:\n",
    "#самые большие остатки по ипотеке  ml_balance в city_type  со статусом  Mega;\n",
    "#самые большие остатки по потребительским кредитам   cl_balance_0m в city_type 100-500;\n",
    "#самые большие остатки по всем кредитам loan_balance_0m,  минимальные остатки по кредитам min_loan_balance_1q\n",
    "#максимальные остатки по кредитам max_loan_balance_1q, средние остатки по кредитам avg_loan_balance_1Y\n",
    "#в city_type 100-500 и city_typ со статусом  Mega\n"
   ]
  },
  {
   "cell_type": "code",
   "execution_count": null,
   "metadata": {},
   "outputs": [],
   "source": [
    "df_city=df.groupby(['city_type'])['ml_balance','cl_balance_0m', 'loan_balance_0m','min_loan_balance_1q','max_loan_balance_1q','avg_loan_balance_1Y'].mean()\n",
    "\n",
    "df_city"
   ]
  },
  {
   "cell_type": "code",
   "execution_count": 24,
   "metadata": {},
   "outputs": [
    {
     "data": {
      "text/html": [
       "<div>\n",
       "<style scoped>\n",
       "    .dataframe tbody tr th:only-of-type {\n",
       "        vertical-align: middle;\n",
       "    }\n",
       "\n",
       "    .dataframe tbody tr th {\n",
       "        vertical-align: top;\n",
       "    }\n",
       "\n",
       "    .dataframe thead th {\n",
       "        text-align: right;\n",
       "    }\n",
       "</style>\n",
       "<table border=\"1\" class=\"dataframe\">\n",
       "  <thead>\n",
       "    <tr style=\"text-align: right;\">\n",
       "      <th></th>\n",
       "      <th>city_type</th>\n",
       "      <th>min_casa_balance_1q</th>\n",
       "      <th>max_casa_balance_1q</th>\n",
       "      <th>avg_casa_balance_1Y</th>\n",
       "      <th>casa_balance_0m</th>\n",
       "    </tr>\n",
       "  </thead>\n",
       "  <tbody>\n",
       "    <tr>\n",
       "      <td>0</td>\n",
       "      <td>100-500</td>\n",
       "      <td>29319.888369</td>\n",
       "      <td>54132.295605</td>\n",
       "      <td>38987.833331</td>\n",
       "      <td>39305.289188</td>\n",
       "    </tr>\n",
       "    <tr>\n",
       "      <td>1</td>\n",
       "      <td>1M+</td>\n",
       "      <td>83507.775872</td>\n",
       "      <td>130236.231749</td>\n",
       "      <td>102265.391860</td>\n",
       "      <td>98512.858700</td>\n",
       "    </tr>\n",
       "    <tr>\n",
       "      <td>2</td>\n",
       "      <td>500-1000</td>\n",
       "      <td>26559.188771</td>\n",
       "      <td>51741.661802</td>\n",
       "      <td>33471.984446</td>\n",
       "      <td>38067.838723</td>\n",
       "    </tr>\n",
       "    <tr>\n",
       "      <td>3</td>\n",
       "      <td>&lt;100</td>\n",
       "      <td>13862.835551</td>\n",
       "      <td>35891.698184</td>\n",
       "      <td>22034.420114</td>\n",
       "      <td>23621.772057</td>\n",
       "    </tr>\n",
       "    <tr>\n",
       "      <td>4</td>\n",
       "      <td>Mega</td>\n",
       "      <td>154414.833461</td>\n",
       "      <td>236135.164278</td>\n",
       "      <td>164969.989349</td>\n",
       "      <td>178621.293838</td>\n",
       "    </tr>\n",
       "  </tbody>\n",
       "</table>\n",
       "</div>"
      ],
      "text/plain": [
       "  city_type  min_casa_balance_1q  max_casa_balance_1q  avg_casa_balance_1Y  \\\n",
       "0   100-500         29319.888369         54132.295605         38987.833331   \n",
       "1       1M+         83507.775872        130236.231749        102265.391860   \n",
       "2  500-1000         26559.188771         51741.661802         33471.984446   \n",
       "3      <100         13862.835551         35891.698184         22034.420114   \n",
       "4      Mega        154414.833461        236135.164278        164969.989349   \n",
       "\n",
       "   casa_balance_0m  \n",
       "0     39305.289188  \n",
       "1     98512.858700  \n",
       "2     38067.838723  \n",
       "3     23621.772057  \n",
       "4    178621.293838  "
      ]
     },
     "execution_count": 24,
     "metadata": {},
     "output_type": "execute_result"
    }
   ],
   "source": [
    "df_liabilities=df.groupby(['city_type'])['min_casa_balance_1q','max_casa_balance_1q','avg_casa_balance_1Y','casa_balance_0m'].mean().reset_index()\n",
    "df_liabilities"
   ]
  },
  {
   "cell_type": "code",
   "execution_count": 27,
   "metadata": {},
   "outputs": [
    {
     "data": {
      "text/html": [
       "<div>\n",
       "<style scoped>\n",
       "    .dataframe tbody tr th:only-of-type {\n",
       "        vertical-align: middle;\n",
       "    }\n",
       "\n",
       "    .dataframe tbody tr th {\n",
       "        vertical-align: top;\n",
       "    }\n",
       "\n",
       "    .dataframe thead th {\n",
       "        text-align: right;\n",
       "    }\n",
       "</style>\n",
       "<table border=\"1\" class=\"dataframe\">\n",
       "  <thead>\n",
       "    <tr style=\"text-align: right;\">\n",
       "      <th></th>\n",
       "      <th>min_casa_balance_1q</th>\n",
       "      <th>max_casa_balance_1q</th>\n",
       "      <th>avg_casa_balance_1Y</th>\n",
       "      <th>casa_balance_0m</th>\n",
       "    </tr>\n",
       "    <tr>\n",
       "      <th>city_type</th>\n",
       "      <th></th>\n",
       "      <th></th>\n",
       "      <th></th>\n",
       "      <th></th>\n",
       "    </tr>\n",
       "  </thead>\n",
       "  <tbody>\n",
       "    <tr>\n",
       "      <td>100-500</td>\n",
       "      <td>29319.888369</td>\n",
       "      <td>54132.295605</td>\n",
       "      <td>38987.833331</td>\n",
       "      <td>39305.289188</td>\n",
       "    </tr>\n",
       "    <tr>\n",
       "      <td>1M+</td>\n",
       "      <td>83507.775872</td>\n",
       "      <td>130236.231749</td>\n",
       "      <td>102265.391860</td>\n",
       "      <td>98512.858700</td>\n",
       "    </tr>\n",
       "    <tr>\n",
       "      <td>500-1000</td>\n",
       "      <td>26559.188771</td>\n",
       "      <td>51741.661802</td>\n",
       "      <td>33471.984446</td>\n",
       "      <td>38067.838723</td>\n",
       "    </tr>\n",
       "    <tr>\n",
       "      <td>&lt;100</td>\n",
       "      <td>13862.835551</td>\n",
       "      <td>35891.698184</td>\n",
       "      <td>22034.420114</td>\n",
       "      <td>23621.772057</td>\n",
       "    </tr>\n",
       "    <tr>\n",
       "      <td>Mega</td>\n",
       "      <td>154414.833461</td>\n",
       "      <td>236135.164278</td>\n",
       "      <td>164969.989349</td>\n",
       "      <td>178621.293838</td>\n",
       "    </tr>\n",
       "  </tbody>\n",
       "</table>\n",
       "</div>"
      ],
      "text/plain": [
       "           min_casa_balance_1q  max_casa_balance_1q  avg_casa_balance_1Y  \\\n",
       "city_type                                                                  \n",
       "100-500           29319.888369         54132.295605         38987.833331   \n",
       "1M+               83507.775872        130236.231749        102265.391860   \n",
       "500-1000          26559.188771         51741.661802         33471.984446   \n",
       "<100              13862.835551         35891.698184         22034.420114   \n",
       "Mega             154414.833461        236135.164278        164969.989349   \n",
       "\n",
       "           casa_balance_0m  \n",
       "city_type                   \n",
       "100-500       39305.289188  \n",
       "1M+           98512.858700  \n",
       "500-1000      38067.838723  \n",
       "<100          23621.772057  \n",
       "Mega         178621.293838  "
      ]
     },
     "execution_count": 27,
     "metadata": {},
     "output_type": "execute_result"
    }
   ],
   "source": [
    "df_liabilities.set_index('city_type', inplace=True)\n",
    "df_liabilities"
   ]
  },
  {
   "cell_type": "code",
   "execution_count": 28,
   "metadata": {},
   "outputs": [],
   "source": [
    "df_liabilitiesT=df_liabilities.T\n"
   ]
  },
  {
   "cell_type": "code",
   "execution_count": 29,
   "metadata": {},
   "outputs": [
    {
     "data": {
      "text/plain": [
       "<matplotlib.axes._subplots.AxesSubplot at 0x1fff7b12048>"
      ]
     },
     "execution_count": 29,
     "metadata": {},
     "output_type": "execute_result"
    },
    {
     "data": {
      "image/png": "[encoded data removed]",
      "text/plain": [
       "<Figure size 720x288 with 1 Axes>"
      ]
     },
     "metadata": {
      "needs_background": "light"
     },
     "output_type": "display_data"
    }
   ],
   "source": [
    "df_liabilitiesT.plot(kind='bar', figsize=(10, 4))"
   ]
  },
  {
   "cell_type": "code",
   "execution_count": 38,
   "metadata": {},
   "outputs": [],
   "source": [
    "df_city_influence=df[['casa_balance_0m','loan_balance_0m']]\n"
   ]
  },
  {
   "cell_type": "code",
   "execution_count": 39,
   "metadata": {},
   "outputs": [
    {
     "data": {
      "text/html": [
       "<div>\n",
       "<style scoped>\n",
       "    .dataframe tbody tr th:only-of-type {\n",
       "        vertical-align: middle;\n",
       "    }\n",
       "\n",
       "    .dataframe tbody tr th {\n",
       "        vertical-align: top;\n",
       "    }\n",
       "\n",
       "    .dataframe thead th {\n",
       "        text-align: right;\n",
       "    }\n",
       "</style>\n",
       "<table border=\"1\" class=\"dataframe\">\n",
       "  <thead>\n",
       "    <tr style=\"text-align: right;\">\n",
       "      <th></th>\n",
       "      <th>casa_balance_0m</th>\n",
       "      <th>loan_balance_0m</th>\n",
       "    </tr>\n",
       "  </thead>\n",
       "  <tbody>\n",
       "    <tr>\n",
       "      <td>casa_balance_0m</td>\n",
       "      <td>1.000000</td>\n",
       "      <td>-0.005749</td>\n",
       "    </tr>\n",
       "    <tr>\n",
       "      <td>loan_balance_0m</td>\n",
       "      <td>-0.005749</td>\n",
       "      <td>1.000000</td>\n",
       "    </tr>\n",
       "  </tbody>\n",
       "</table>\n",
       "</div>"
      ],
      "text/plain": [
       "                 casa_balance_0m  loan_balance_0m\n",
       "casa_balance_0m         1.000000        -0.005749\n",
       "loan_balance_0m        -0.005749         1.000000"
      ]
     },
     "execution_count": 39,
     "metadata": {},
     "output_type": "execute_result"
    }
   ],
   "source": [
    "df_city_influence_corr_matrix = df_city_influence.corr()\n",
    "df_city_influence_corr_matrix"
   ]
  },
  {
   "cell_type": "code",
   "execution_count": null,
   "metadata": {},
   "outputs": [],
   "source": []
  },
  {
   "cell_type": "code",
   "execution_count": null,
   "metadata": {},
   "outputs": [],
   "source": []
  },
  {
   "cell_type": "code",
   "execution_count": null,
   "metadata": {},
   "outputs": [],
   "source": []
  },
  {
   "cell_type": "code",
   "execution_count": null,
   "metadata": {},
   "outputs": [],
   "source": []
  },
  {
   "cell_type": "code",
   "execution_count": null,
   "metadata": {},
   "outputs": [],
   "source": []
  },
  {
   "cell_type": "code",
   "execution_count": null,
   "metadata": {},
   "outputs": [],
   "source": [
    " III."
   ]
  },
  {
   "cell_type": "code",
   "execution_count": null,
   "metadata": {},
   "outputs": [],
   "source": [
    "# Посмотрим, какой же населенный пункт приносит максимальный nbi- доход от клиента без OPEX. \n",
    "#  Предположительно это населенный пункт  city_type 100-500 и city_type со статусом  Mega- судя  по объемам кредитования\n",
    "#Для этого создадим новый df_OPEX на базе исходного. Найдем средние значения\n",
    "#требуемых показателей в разрезе градаций по размерам населенных пунктов."
   ]
  },
  {
   "cell_type": "code",
   "execution_count": 28,
   "metadata": {},
   "outputs": [
    {
     "name": "stdout",
     "output_type": "stream",
     "text": [
      "                    nbi\n",
      "city_type              \n",
      "Mega       16038.028280\n",
      "100-500    12001.960351\n",
      "1M+        11532.545261\n",
      "<100       10901.987569\n",
      "500-1000   10303.616441\n"
     ]
    },
    {
     "data": {
      "text/plain": [
       "<matplotlib.axes._subplots.AxesSubplot at 0x1da5e007408>"
      ]
     },
     "execution_count": 28,
     "metadata": {},
     "output_type": "execute_result"
    },
    {
     "data": {
      "image/png": "[encoded data removed]",
      "text/plain": [
       "<Figure size 432x288 with 1 Axes>"
      ]
     },
     "metadata": {
      "needs_background": "light"
     },
     "output_type": "display_data"
    }
   ],
   "source": [
    "df_OPEX=df.groupby(['city_type'])['nbi'].mean().reset_index()\n",
    "df_OPEX.set_index('city_type', inplace=True)\n",
    "#df_OPEX.sort_values\n",
    "df_OPEX=df_OPEX.sort_values('nbi',ascending=False)\n",
    "print(df_OPEX)\n",
    "\n",
    "df_OPEX.plot(kind='bar')"
   ]
  },
  {
   "cell_type": "code",
   "execution_count": 29,
   "metadata": {},
   "outputs": [],
   "source": [
    "#Выводы по первому приближению по среднему значению данных:\n",
    "#Да,как и предполагалось- max доход от клиента без OPEX  в населенном пункте со статусом city_type Mega,   \n",
    "# на втором месте населенный пункт  city_type 100-500"
   ]
  },
  {
   "cell_type": "code",
   "execution_count": null,
   "metadata": {},
   "outputs": [],
   "source": [
    "#Следует отметить, что min значения как по  остаткам по всем кредитам loan_balance_0m, так и по доходу от клиента без OPEX\n",
    "#наблюдается в населенном пункте city_type 500-1000."
   ]
  },
  {
   "cell_type": "code",
   "execution_count": null,
   "metadata": {},
   "outputs": [],
   "source": []
  },
  {
   "cell_type": "code",
   "execution_count": null,
   "metadata": {},
   "outputs": [],
   "source": [
    "IV."
   ]
  },
  {
   "cell_type": "code",
   "execution_count": null,
   "metadata": {},
   "outputs": [],
   "source": [
    "#Посмотрим, в каком возрасте больше всего откладывают средств на депозит.\n",
    "#Для этого создадим новый df_deposit на базе исходного. Найдем сумму депозитов\n",
    "#по возрастам"
   ]
  },
  {
   "cell_type": "code",
   "execution_count": 115,
   "metadata": {},
   "outputs": [
    {
     "data": {
      "text/html": [
       "<div>\n",
       "<style scoped>\n",
       "    .dataframe tbody tr th:only-of-type {\n",
       "        vertical-align: middle;\n",
       "    }\n",
       "\n",
       "    .dataframe tbody tr th {\n",
       "        vertical-align: top;\n",
       "    }\n",
       "\n",
       "    .dataframe thead th {\n",
       "        text-align: right;\n",
       "    }\n",
       "</style>\n",
       "<table border=\"1\" class=\"dataframe\">\n",
       "  <thead>\n",
       "    <tr style=\"text-align: right;\">\n",
       "      <th></th>\n",
       "      <th>age</th>\n",
       "      <th>td_balance_0m</th>\n",
       "    </tr>\n",
       "  </thead>\n",
       "  <tbody>\n",
       "    <tr>\n",
       "      <td>0</td>\n",
       "      <td>4</td>\n",
       "      <td>0.0</td>\n",
       "    </tr>\n",
       "    <tr>\n",
       "      <td>1</td>\n",
       "      <td>8</td>\n",
       "      <td>0.0</td>\n",
       "    </tr>\n",
       "    <tr>\n",
       "      <td>2</td>\n",
       "      <td>9</td>\n",
       "      <td>0.0</td>\n",
       "    </tr>\n",
       "    <tr>\n",
       "      <td>3</td>\n",
       "      <td>10</td>\n",
       "      <td>0.0</td>\n",
       "    </tr>\n",
       "    <tr>\n",
       "      <td>4</td>\n",
       "      <td>13</td>\n",
       "      <td>0.0</td>\n",
       "    </tr>\n",
       "  </tbody>\n",
       "</table>\n",
       "</div>"
      ],
      "text/plain": [
       "   age  td_balance_0m\n",
       "0    4            0.0\n",
       "1    8            0.0\n",
       "2    9            0.0\n",
       "3   10            0.0\n",
       "4   13            0.0"
      ]
     },
     "execution_count": 115,
     "metadata": {},
     "output_type": "execute_result"
    }
   ],
   "source": [
    "df_deposit=df.groupby(['age'])['td_balance_0m'].sum().reset_index()\n",
    "df_deposit.head()"
   ]
  },
  {
   "cell_type": "code",
   "execution_count": 116,
   "metadata": {},
   "outputs": [
    {
     "data": {
      "text/html": [
       "<div>\n",
       "<style scoped>\n",
       "    .dataframe tbody tr th:only-of-type {\n",
       "        vertical-align: middle;\n",
       "    }\n",
       "\n",
       "    .dataframe tbody tr th {\n",
       "        vertical-align: top;\n",
       "    }\n",
       "\n",
       "    .dataframe thead th {\n",
       "        text-align: right;\n",
       "    }\n",
       "</style>\n",
       "<table border=\"1\" class=\"dataframe\">\n",
       "  <thead>\n",
       "    <tr style=\"text-align: right;\">\n",
       "      <th></th>\n",
       "      <th>age</th>\n",
       "      <th>td_balance_0m</th>\n",
       "    </tr>\n",
       "  </thead>\n",
       "  <tbody>\n",
       "    <tr>\n",
       "      <td>5</td>\n",
       "      <td>14</td>\n",
       "      <td>883545.21</td>\n",
       "    </tr>\n",
       "    <tr>\n",
       "      <td>7</td>\n",
       "      <td>16</td>\n",
       "      <td>100143.52</td>\n",
       "    </tr>\n",
       "    <tr>\n",
       "      <td>8</td>\n",
       "      <td>17</td>\n",
       "      <td>268808.08</td>\n",
       "    </tr>\n",
       "    <tr>\n",
       "      <td>9</td>\n",
       "      <td>18</td>\n",
       "      <td>53245.09</td>\n",
       "    </tr>\n",
       "    <tr>\n",
       "      <td>10</td>\n",
       "      <td>19</td>\n",
       "      <td>5711913.42</td>\n",
       "    </tr>\n",
       "  </tbody>\n",
       "</table>\n",
       "</div>"
      ],
      "text/plain": [
       "    age  td_balance_0m\n",
       "5    14      883545.21\n",
       "7    16      100143.52\n",
       "8    17      268808.08\n",
       "9    18       53245.09\n",
       "10   19     5711913.42"
      ]
     },
     "execution_count": 116,
     "metadata": {},
     "output_type": "execute_result"
    }
   ],
   "source": [
    "df_deposit = df_deposit.loc[df_deposit['td_balance_0m'] != 0]\n",
    "df_deposit.head()\n"
   ]
  },
  {
   "cell_type": "code",
   "execution_count": 161,
   "metadata": {},
   "outputs": [
    {
     "data": {
      "text/html": [
       "<div>\n",
       "<style scoped>\n",
       "    .dataframe tbody tr th:only-of-type {\n",
       "        vertical-align: middle;\n",
       "    }\n",
       "\n",
       "    .dataframe tbody tr th {\n",
       "        vertical-align: top;\n",
       "    }\n",
       "\n",
       "    .dataframe thead th {\n",
       "        text-align: right;\n",
       "    }\n",
       "</style>\n",
       "<table border=\"1\" class=\"dataframe\">\n",
       "  <thead>\n",
       "    <tr style=\"text-align: right;\">\n",
       "      <th></th>\n",
       "      <th>age</th>\n",
       "      <th>td_balance_0m</th>\n",
       "    </tr>\n",
       "  </thead>\n",
       "  <tbody>\n",
       "    <tr>\n",
       "      <td>65</td>\n",
       "      <td>74</td>\n",
       "      <td>3.497449e+08</td>\n",
       "    </tr>\n",
       "    <tr>\n",
       "      <td>55</td>\n",
       "      <td>64</td>\n",
       "      <td>1.974482e+08</td>\n",
       "    </tr>\n",
       "    <tr>\n",
       "      <td>46</td>\n",
       "      <td>55</td>\n",
       "      <td>1.338935e+08</td>\n",
       "    </tr>\n",
       "    <tr>\n",
       "      <td>45</td>\n",
       "      <td>54</td>\n",
       "      <td>1.163761e+08</td>\n",
       "    </tr>\n",
       "    <tr>\n",
       "      <td>47</td>\n",
       "      <td>56</td>\n",
       "      <td>1.151753e+08</td>\n",
       "    </tr>\n",
       "  </tbody>\n",
       "</table>\n",
       "</div>"
      ],
      "text/plain": [
       "    age  td_balance_0m\n",
       "65   74   3.497449e+08\n",
       "55   64   1.974482e+08\n",
       "46   55   1.338935e+08\n",
       "45   54   1.163761e+08\n",
       "47   56   1.151753e+08"
      ]
     },
     "execution_count": 161,
     "metadata": {},
     "output_type": "execute_result"
    }
   ],
   "source": [
    "df_deposit_td=df_deposit.sort_values(by='td_balance_0m',ascending=False)\n",
    "df_deposit_td.head()\n",
    "#Вывод по данным: max сумма депозита у клиентов в возрасте 74 года и 64 года"
   ]
  },
  {
   "cell_type": "code",
   "execution_count": 118,
   "metadata": {},
   "outputs": [
    {
     "data": {
      "text/html": [
       "<div>\n",
       "<style scoped>\n",
       "    .dataframe tbody tr th:only-of-type {\n",
       "        vertical-align: middle;\n",
       "    }\n",
       "\n",
       "    .dataframe tbody tr th {\n",
       "        vertical-align: top;\n",
       "    }\n",
       "\n",
       "    .dataframe thead th {\n",
       "        text-align: right;\n",
       "    }\n",
       "</style>\n",
       "<table border=\"1\" class=\"dataframe\">\n",
       "  <thead>\n",
       "    <tr style=\"text-align: right;\">\n",
       "      <th></th>\n",
       "      <th>age</th>\n",
       "      <th>td_balance_0m</th>\n",
       "    </tr>\n",
       "  </thead>\n",
       "  <tbody>\n",
       "    <tr>\n",
       "      <td>5</td>\n",
       "      <td>14</td>\n",
       "      <td>883545.21</td>\n",
       "    </tr>\n",
       "    <tr>\n",
       "      <td>7</td>\n",
       "      <td>16</td>\n",
       "      <td>100143.52</td>\n",
       "    </tr>\n",
       "    <tr>\n",
       "      <td>8</td>\n",
       "      <td>17</td>\n",
       "      <td>268808.08</td>\n",
       "    </tr>\n",
       "    <tr>\n",
       "      <td>9</td>\n",
       "      <td>18</td>\n",
       "      <td>53245.09</td>\n",
       "    </tr>\n",
       "    <tr>\n",
       "      <td>10</td>\n",
       "      <td>19</td>\n",
       "      <td>5711913.42</td>\n",
       "    </tr>\n",
       "  </tbody>\n",
       "</table>\n",
       "</div>"
      ],
      "text/plain": [
       "    age  td_balance_0m\n",
       "5    14      883545.21\n",
       "7    16      100143.52\n",
       "8    17      268808.08\n",
       "9    18       53245.09\n",
       "10   19     5711913.42"
      ]
     },
     "execution_count": 118,
     "metadata": {},
     "output_type": "execute_result"
    }
   ],
   "source": [
    "df_deposit_a=df_deposit.sort_values('age')\n",
    "df_deposit_a.head()"
   ]
  },
  {
   "cell_type": "code",
   "execution_count": 122,
   "metadata": {},
   "outputs": [
    {
     "data": {
      "text/plain": [
       "Text(0.5, 1, 'Суммы депозитов клиентов в зависимости от возраста клиентов ')"
      ]
     },
     "execution_count": 122,
     "metadata": {},
     "output_type": "execute_result"
    },
    {
     "data": {
      "image/png": "[encoded data removed]",
      "text/plain": [
       "<Figure size 360x360 with 1 Axes>"
      ]
     },
     "metadata": {
      "needs_background": "light"
     },
     "output_type": "display_data"
    }
   ],
   "source": [
    "sns.relplot(x='age', y='td_balance_0m', data=df_deposit_a.query(\"age >60\"), kind='line')\n",
    "plt.title('Суммы депозитов клиентов в зависимости от возраста клиентов ', size=20, color='g')\n"
   ]
  },
  {
   "cell_type": "code",
   "execution_count": 127,
   "metadata": {},
   "outputs": [
    {
     "data": {
      "text/plain": [
       "Text(0.5, 1, 'Суммы депозитов клиентов в зависимости от возраста клиентов')"
      ]
     },
     "execution_count": 127,
     "metadata": {},
     "output_type": "execute_result"
    },
    {
     "data": {
      "image/png": "[encoded data removed]",
      "text/plain": [
       "<Figure size 360x360 with 1 Axes>"
      ]
     },
     "metadata": {
      "needs_background": "light"
     },
     "output_type": "display_data"
    }
   ],
   "source": [
    "sns.relplot(x='age', y='td_balance_0m', data=df_deposit_a, kind='line')\n",
    "plt.title('Суммы депозитов клиентов в зависимости от возраста клиентов', size=20, color='g')"
   ]
  },
  {
   "cell_type": "code",
   "execution_count": 130,
   "metadata": {},
   "outputs": [
    {
     "data": {
      "text/plain": [
       "Text(0.5, 1, 'Диаграмма рассеяния Суммы депозитов клиентов в зависимости от возраста клиентов')"
      ]
     },
     "execution_count": 130,
     "metadata": {},
     "output_type": "execute_result"
    },
    {
     "data": {
      "image/png": "[encoded data removed]",
      "text/plain": [
       "<Figure size 360x360 with 1 Axes>"
      ]
     },
     "metadata": {
      "needs_background": "light"
     },
     "output_type": "display_data"
    }
   ],
   "source": [
    "sns.relplot(x='age', y='td_balance_0m', data=df_deposit_a, kind='scatter')\n",
    "plt.title('Диаграмма рассеяния Суммы депозитов клиентов в зависимости от возраста клиентов', size=10, color='g')"
   ]
  },
  {
   "cell_type": "code",
   "execution_count": null,
   "metadata": {},
   "outputs": [],
   "source": [
    "#Если не учитывать выросы, то распределение значений приближается у нормальному, особенно в начале и в конце графика\n",
    "# для клитентов до 30 лет и свыше 80 лет характерны небольшие суммы депозитов."
   ]
  },
  {
   "cell_type": "code",
   "execution_count": null,
   "metadata": {},
   "outputs": [],
   "source": []
  },
  {
   "cell_type": "code",
   "execution_count": 133,
   "metadata": {},
   "outputs": [
    {
     "data": {
      "text/plain": [
       "<matplotlib.axes._subplots.AxesSubplot at 0x1da5d58b8c8>"
      ]
     },
     "execution_count": 133,
     "metadata": {},
     "output_type": "execute_result"
    },
    {
     "data": {
      "image/png": "[encoded data removed]",
      "text/plain": [
       "<Figure size 1008x504 with 1 Axes>"
      ]
     },
     "metadata": {
      "needs_background": "light"
     },
     "output_type": "display_data"
    }
   ],
   "source": [
    "df_deposit_a[['td_balance_0m']].boxplot(figsize = (14, 7))"
   ]
  },
  {
   "cell_type": "code",
   "execution_count": null,
   "metadata": {},
   "outputs": [],
   "source": [
    "#Вывод по диаграме boxplot: Наши полученные  max значения остатков по депозитам для возраста 74 и 64 года\n",
    "#3.5*10^8 и 2*10^8- являются выбросом \n",
    "#  и не характерны для распределения данных  ряда.Значения от min до max находятся в диапазоне от 0 до 1,35 *10^8. Медианное \n",
    "# значение находится на уровне 0,35*10^8"
   ]
  },
  {
   "cell_type": "code",
   "execution_count": 134,
   "metadata": {},
   "outputs": [
    {
     "data": {
      "text/plain": [
       "<matplotlib.axes._subplots.AxesSubplot at 0x1da5d3bf588>"
      ]
     },
     "execution_count": 134,
     "metadata": {},
     "output_type": "execute_result"
    },
    {
     "data": {
      "image/png": "[encoded data removed]",
      "text/plain": [
       "<Figure size 432x288 with 1 Axes>"
      ]
     },
     "metadata": {
      "needs_background": "light"
     },
     "output_type": "display_data"
    }
   ],
   "source": [
    "df_deposit_a.td_balance_0m.hist()"
   ]
  },
  {
   "cell_type": "code",
   "execution_count": null,
   "metadata": {},
   "outputs": [],
   "source": [
    "#Вывод по диаграме hist: Также видно, что наши полученные  max значения остатков по депозитам для возраста 74 и 64 года\n",
    "#3.5*10^8 и 2*10^8- являются выбросом \n"
   ]
  },
  {
   "cell_type": "code",
   "execution_count": 160,
   "metadata": {},
   "outputs": [
    {
     "data": {
      "text/plain": [
       "<matplotlib.axes._subplots.AxesSubplot at 0x1da61f31048>"
      ]
     },
     "execution_count": 160,
     "metadata": {},
     "output_type": "execute_result"
    },
    {
     "data": {
      "image/png": "[encoded data removed]",
      "text/plain": [
       "<Figure size 720x432 with 1 Axes>"
      ]
     },
     "metadata": {},
     "output_type": "display_data"
    }
   ],
   "source": [
    "#Сделаем оценку плотности ядра полученной выше гистограммы:\n",
    "\n",
    "s = df_deposit_a.td_balance_0m\n",
    "s.hist(density=True)\n",
    "s.plot(kind='kde', figsize=(10,6))"
   ]
  },
  {
   "cell_type": "code",
   "execution_count": null,
   "metadata": {},
   "outputs": [],
   "source": [
    "# с увеличением  суммы депозита  количество депозитов уменьшается"
   ]
  },
  {
   "cell_type": "code",
   "execution_count": 158,
   "metadata": {},
   "outputs": [
    {
     "data": {
      "image/png": "[encoded data removed]",
      "text/plain": [
       "<Figure size 432x288 with 1 Axes>"
      ]
     },
     "metadata": {},
     "output_type": "display_data"
    }
   ],
   "source": [
    "\n",
    "\n",
    "sns.set(style='whitegrid', color_codes=True)\n",
    "\n",
    "sns.distplot(\n",
    "    df_deposit_a.td_balance_0m,\n",
    "    color='g', \n",
    "    rug=True, \n",
    "    rug_kws={\"color\": 'm', \"height\": 0.1}\n",
    "    \n",
    ")\n",
    "plt.title('1.Диаграмма распределения Суммы депозитов клиентов в зависимости от возраста клиентов с параметром rug=True', size=15, color='g', weight='bold')\n",
    "plt.show();"
   ]
  },
  {
   "cell_type": "code",
   "execution_count": null,
   "metadata": {},
   "outputs": [],
   "source": []
  },
  {
   "cell_type": "code",
   "execution_count": null,
   "metadata": {},
   "outputs": [],
   "source": []
  },
  {
   "cell_type": "code",
   "execution_count": null,
   "metadata": {},
   "outputs": [],
   "source": []
  },
  {
   "cell_type": "code",
   "execution_count": null,
   "metadata": {},
   "outputs": [],
   "source": [
    "V."
   ]
  },
  {
   "cell_type": "code",
   "execution_count": null,
   "metadata": {},
   "outputs": [],
   "source": [
    "#Допустим (чисто гипотетически в качестве примера на массиве данных), для задачи машинного обучения в качестве фичей \n",
    "#планируется использовать 4 показателя(остатки по балансу разных   временных интервалов):\n",
    "#min_casa_balance_1q показатели по счетам за квартал\n",
    "#max_casa_balance_1q\n",
    "#avg_casa_balance_1Y показатели по счетам за год\n",
    "#casa_balance_0m\n",
    "#Рассмотрим вопрос наличия корреляции между этими показателями для принятия решения о совместном их\n",
    "#использовании в качестве фичей для решения задачи машинного обучения:"
   ]
  },
  {
   "cell_type": "code",
   "execution_count": 154,
   "metadata": {},
   "outputs": [
    {
     "data": {
      "text/html": [
       "<div>\n",
       "<style scoped>\n",
       "    .dataframe tbody tr th:only-of-type {\n",
       "        vertical-align: middle;\n",
       "    }\n",
       "\n",
       "    .dataframe tbody tr th {\n",
       "        vertical-align: top;\n",
       "    }\n",
       "\n",
       "    .dataframe thead th {\n",
       "        text-align: right;\n",
       "    }\n",
       "</style>\n",
       "<table border=\"1\" class=\"dataframe\">\n",
       "  <thead>\n",
       "    <tr style=\"text-align: right;\">\n",
       "      <th></th>\n",
       "      <th>min_casa_balance_1q</th>\n",
       "      <th>max_casa_balance_1q</th>\n",
       "      <th>avg_casa_balance_1Y</th>\n",
       "      <th>casa_balance_0m</th>\n",
       "    </tr>\n",
       "  </thead>\n",
       "  <tbody>\n",
       "    <tr>\n",
       "      <td>0</td>\n",
       "      <td>0.0000</td>\n",
       "      <td>0.0000</td>\n",
       "      <td>0.000000</td>\n",
       "      <td>0.0000</td>\n",
       "    </tr>\n",
       "    <tr>\n",
       "      <td>1</td>\n",
       "      <td>3272.9367</td>\n",
       "      <td>4280.1960</td>\n",
       "      <td>4716.127317</td>\n",
       "      <td>3272.9367</td>\n",
       "    </tr>\n",
       "    <tr>\n",
       "      <td>2</td>\n",
       "      <td>6249.7550</td>\n",
       "      <td>10311.6588</td>\n",
       "      <td>10239.601283</td>\n",
       "      <td>6249.7550</td>\n",
       "    </tr>\n",
       "    <tr>\n",
       "      <td>3</td>\n",
       "      <td>14354.9370</td>\n",
       "      <td>15086.7999</td>\n",
       "      <td>13905.841283</td>\n",
       "      <td>14354.9370</td>\n",
       "    </tr>\n",
       "    <tr>\n",
       "      <td>4</td>\n",
       "      <td>91511.7691</td>\n",
       "      <td>93649.4406</td>\n",
       "      <td>96089.612758</td>\n",
       "      <td>91511.7691</td>\n",
       "    </tr>\n",
       "  </tbody>\n",
       "</table>\n",
       "</div>"
      ],
      "text/plain": [
       "   min_casa_balance_1q  max_casa_balance_1q  avg_casa_balance_1Y  \\\n",
       "0               0.0000               0.0000             0.000000   \n",
       "1            3272.9367            4280.1960          4716.127317   \n",
       "2            6249.7550           10311.6588         10239.601283   \n",
       "3           14354.9370           15086.7999         13905.841283   \n",
       "4           91511.7691           93649.4406         96089.612758   \n",
       "\n",
       "   casa_balance_0m  \n",
       "0           0.0000  \n",
       "1        3272.9367  \n",
       "2        6249.7550  \n",
       "3       14354.9370  \n",
       "4       91511.7691  "
      ]
     },
     "execution_count": 154,
     "metadata": {},
     "output_type": "execute_result"
    }
   ],
   "source": [
    "df_bal=df[['min_casa_balance_1q','max_casa_balance_1q','avg_casa_balance_1Y','casa_balance_0m']]\n",
    "df_bal.head()\n"
   ]
  },
  {
   "cell_type": "code",
   "execution_count": 152,
   "metadata": {},
   "outputs": [
    {
     "data": {
      "text/html": [
       "<div>\n",
       "<style scoped>\n",
       "    .dataframe tbody tr th:only-of-type {\n",
       "        vertical-align: middle;\n",
       "    }\n",
       "\n",
       "    .dataframe tbody tr th {\n",
       "        vertical-align: top;\n",
       "    }\n",
       "\n",
       "    .dataframe thead th {\n",
       "        text-align: right;\n",
       "    }\n",
       "</style>\n",
       "<table border=\"1\" class=\"dataframe\">\n",
       "  <thead>\n",
       "    <tr style=\"text-align: right;\">\n",
       "      <th></th>\n",
       "      <th>min_casa_balance_1q</th>\n",
       "      <th>max_casa_balance_1q</th>\n",
       "      <th>avg_casa_balance_1Y</th>\n",
       "      <th>casa_balance_0m</th>\n",
       "    </tr>\n",
       "  </thead>\n",
       "  <tbody>\n",
       "    <tr>\n",
       "      <td>min_casa_balance_1q</td>\n",
       "      <td>1.000000</td>\n",
       "      <td>0.975098</td>\n",
       "      <td>0.930333</td>\n",
       "      <td>0.988638</td>\n",
       "    </tr>\n",
       "    <tr>\n",
       "      <td>max_casa_balance_1q</td>\n",
       "      <td>0.975098</td>\n",
       "      <td>1.000000</td>\n",
       "      <td>0.934124</td>\n",
       "      <td>0.972726</td>\n",
       "    </tr>\n",
       "    <tr>\n",
       "      <td>avg_casa_balance_1Y</td>\n",
       "      <td>0.930333</td>\n",
       "      <td>0.934124</td>\n",
       "      <td>1.000000</td>\n",
       "      <td>0.919708</td>\n",
       "    </tr>\n",
       "    <tr>\n",
       "      <td>casa_balance_0m</td>\n",
       "      <td>0.988638</td>\n",
       "      <td>0.972726</td>\n",
       "      <td>0.919708</td>\n",
       "      <td>1.000000</td>\n",
       "    </tr>\n",
       "  </tbody>\n",
       "</table>\n",
       "</div>"
      ],
      "text/plain": [
       "                     min_casa_balance_1q  max_casa_balance_1q  \\\n",
       "min_casa_balance_1q             1.000000             0.975098   \n",
       "max_casa_balance_1q             0.975098             1.000000   \n",
       "avg_casa_balance_1Y             0.930333             0.934124   \n",
       "casa_balance_0m                 0.988638             0.972726   \n",
       "\n",
       "                     avg_casa_balance_1Y  casa_balance_0m  \n",
       "min_casa_balance_1q             0.930333         0.988638  \n",
       "max_casa_balance_1q             0.934124         0.972726  \n",
       "avg_casa_balance_1Y             1.000000         0.919708  \n",
       "casa_balance_0m                 0.919708         1.000000  "
      ]
     },
     "execution_count": 152,
     "metadata": {},
     "output_type": "execute_result"
    }
   ],
   "source": [
    "df_bal_corr_matrix = df_bal.corr()\n",
    "df_bal_corr_matrix"
   ]
  },
  {
   "cell_type": "code",
   "execution_count": 7,
   "metadata": {},
   "outputs": [
    {
     "ename": "NameError",
     "evalue": "name 'df_bal_corr_matrix' is not defined",
     "output_type": "error",
     "traceback": [
      "\u001b[1;31m---------------------------------------------------------------------------\u001b[0m",
      "\u001b[1;31mNameError\u001b[0m                                 Traceback (most recent call last)",
      "\u001b[1;32m<ipython-input-7-0b9b1b876e7d>\u001b[0m in \u001b[0;36m<module>\u001b[1;34m\u001b[0m\n\u001b[0;32m      1\u001b[0m \u001b[0mplt\u001b[0m\u001b[1;33m.\u001b[0m\u001b[0mfigure\u001b[0m\u001b[1;33m(\u001b[0m\u001b[0mfigsize\u001b[0m\u001b[1;33m=\u001b[0m\u001b[1;33m(\u001b[0m\u001b[1;36m7\u001b[0m\u001b[1;33m,\u001b[0m \u001b[1;36m7\u001b[0m\u001b[1;33m)\u001b[0m\u001b[1;33m)\u001b[0m\u001b[1;33m\u001b[0m\u001b[1;33m\u001b[0m\u001b[0m\n\u001b[1;32m----> 2\u001b[1;33m \u001b[0mplt\u001b[0m\u001b[1;33m.\u001b[0m\u001b[0mimshow\u001b[0m\u001b[1;33m(\u001b[0m\u001b[0mdf_bal_corr_matrix\u001b[0m\u001b[1;33m,\u001b[0m \u001b[0mcmap\u001b[0m\u001b[1;33m=\u001b[0m\u001b[1;34m'Greens'\u001b[0m\u001b[1;33m)\u001b[0m \u001b[1;31m#'Greens'\u001b[0m\u001b[1;33m\u001b[0m\u001b[1;33m\u001b[0m\u001b[0m\n\u001b[0m\u001b[0;32m      3\u001b[0m \u001b[0mplt\u001b[0m\u001b[1;33m.\u001b[0m\u001b[0mcolorbar\u001b[0m\u001b[1;33m(\u001b[0m\u001b[1;33m)\u001b[0m  \u001b[1;31m# добавим шкалу интенсивности цвета\u001b[0m\u001b[1;33m\u001b[0m\u001b[1;33m\u001b[0m\u001b[0m\n\u001b[0;32m      4\u001b[0m \u001b[1;33m\u001b[0m\u001b[0m\n\u001b[0;32m      5\u001b[0m \u001b[0mplt\u001b[0m\u001b[1;33m.\u001b[0m\u001b[0mxticks\u001b[0m\u001b[1;33m(\u001b[0m\u001b[0mrange\u001b[0m\u001b[1;33m(\u001b[0m\u001b[0mlen\u001b[0m\u001b[1;33m(\u001b[0m\u001b[0mdf_bal_corr_matrix\u001b[0m\u001b[1;33m.\u001b[0m\u001b[0mcolumns\u001b[0m\u001b[1;33m)\u001b[0m\u001b[1;33m)\u001b[0m\u001b[1;33m,\u001b[0m \u001b[0mdf_bal_corr_matrix\u001b[0m\u001b[1;33m.\u001b[0m\u001b[0mcolumns\u001b[0m\u001b[1;33m)\u001b[0m\u001b[1;33m\u001b[0m\u001b[1;33m\u001b[0m\u001b[0m\n",
      "\u001b[1;31mNameError\u001b[0m: name 'df_bal_corr_matrix' is not defined"
     ]
    },
    {
     "data": {
      "text/plain": [
       "<Figure size 504x504 with 0 Axes>"
      ]
     },
     "metadata": {},
     "output_type": "display_data"
    }
   ],
   "source": [
    "plt.figure(figsize=(7, 7))\n",
    "plt.imshow(df_bal_corr_matrix, cmap='Greens') #'Greens'\n",
    "plt.colorbar()  # добавим шкалу интенсивности цвета\n",
    "\n",
    "plt.xticks(range(len(df_bal_corr_matrix.columns)), df_bal_corr_matrix.columns)\n",
    "plt.yticks(range(len(df_bal_corr_matrix)), df_bal_corr_matrix.index)"
   ]
  },
  {
   "cell_type": "code",
   "execution_count": null,
   "metadata": {},
   "outputs": [],
   "source": [
    "#Вывод по данным: Между данными наблюдается достаточно высокая корреляция. Коэфф корреляции от  0,92 до 1.\n",
    "#Если использовать все 4 показателя в качестве фичей при задаче машинного обучения, то это может ухудшить результат,\n",
    "#в связи с высокой корреляцией между данными. Рекомендуется не использовать все фичи совместно. Произвести  выбор.\n",
    "\n",
    "#Здесь наименьшая корреляция наблюдается между casa_balance_0m и avg_casa_balance_1Y,но все равно значение коэф корр велико 92%\n",
    "\n",
    "#Так же дополнительно следует отметить, что  данные\n",
    "#min_casa_balance_1q\n",
    "#max_casa_balance_1q\n",
    "#avg_casa_balance_1Y\n",
    "#casa_balance_0m\n",
    "#похожи межу собой т.е. не большое отклонение между min, max,avg  значением."
   ]
  },
  {
   "cell_type": "code",
   "execution_count": null,
   "metadata": {},
   "outputs": [],
   "source": [
    "#Отрисуем графики. Возможно, это периодические поступления"
   ]
  },
  {
   "cell_type": "code",
   "execution_count": null,
   "metadata": {},
   "outputs": [],
   "source": [
    "plt.figure(figsize=(24, 6))\n",
    "plt.plot(dbc_svod['Date'],dbc_svod['curs EUR'])\n",
    "plt.plot(dbc_svod['Date'],dbc_svod['OIL'])\n",
    "plt.title(\"Динамика курса ЕВРО/Котировок нефти  за период\")\n",
    "plt.xlabel('Период')\n",
    "plt.ylabel('Курс ЕВРО/Котировки нефти')"
   ]
  },
  {
   "cell_type": "code",
   "execution_count": null,
   "metadata": {},
   "outputs": [],
   "source": [
    "df[['min_casa_balance_1q','max_casa_balance_1q','avg_casa_balance_1Y','casa_balance_0m']]"
   ]
  },
  {
   "cell_type": "code",
   "execution_count": 11,
   "metadata": {},
   "outputs": [
    {
     "data": {
      "text/plain": [
       "[<matplotlib.lines.Line2D at 0x1fff74b1bc8>]"
      ]
     },
     "execution_count": 11,
     "metadata": {},
     "output_type": "execute_result"
    },
    {
     "data": {
      "image/png": "[encoded data removed]",
      "text/plain": [
       "<Figure size 1728x432 with 1 Axes>"
      ]
     },
     "metadata": {
      "needs_background": "light"
     },
     "output_type": "display_data"
    }
   ],
   "source": [
    "plt.figure(figsize=(24, 6))\n",
    "plt.plot(df['casa_balance_0m'])\n",
    "plt.plot(df['avg_casa_balance_1Y'])\n",
    "plt.plot(df['min_casa_balance_1q'])\n",
    "plt.plot(df['max_casa_balance_1q'])\n"
   ]
  },
  {
   "cell_type": "code",
   "execution_count": null,
   "metadata": {},
   "outputs": [],
   "source": []
  },
  {
   "cell_type": "code",
   "execution_count": null,
   "metadata": {},
   "outputs": [],
   "source": []
  },
  {
   "cell_type": "code",
   "execution_count": null,
   "metadata": {},
   "outputs": [],
   "source": []
  },
  {
   "cell_type": "code",
   "execution_count": null,
   "metadata": {},
   "outputs": [],
   "source": []
  }
 ],
 "metadata": {
  "kernelspec": {
   "display_name": "Python 3",
   "language": "python",
   "name": "python3"
  },
  "language_info": {
   "codemirror_mode": {
    "name": "ipython",
    "version": 3
   },
   "file_extension": ".py",
   "mimetype": "text/x-python",
   "name": "python",
   "nbconvert_exporter": "python",
   "pygments_lexer": "ipython3",
   "version": "3.7.4"
  }
 },
 "nbformat": 4,
 "nbformat_minor": 4
}
